{
  "nbformat": 4,
  "nbformat_minor": 0,
  "metadata": {
    "colab": {
      "provenance": []
    },
    "kernelspec": {
      "name": "python3",
      "display_name": "Python 3"
    },
    "language_info": {
      "name": "python"
    }
  },
  "cells": [
    {
      "cell_type": "markdown",
      "source": [
        "##Data Collection & Preparation"
      ],
      "metadata": {
        "id": "cLnoO_-jg8xf"
      }
    },
    {
      "cell_type": "code",
      "source": [
        "import numpy as np\n",
        "import pandas as pd\n",
        "from sklearn.preprocessing import StandardScaler\n",
        "from sklearn.ensemble import RandomForestClassifier\n",
        "from sklearn.model_selection import train_test_split\n",
        "from sklearn.metrics import accuracy_score"
      ],
      "metadata": {
        "id": "-J5NYEskdhYh"
      },
      "execution_count": 1,
      "outputs": []
    },
    {
      "cell_type": "code",
      "execution_count": 2,
      "metadata": {
        "id": "Tl9UmkrxczTW"
      },
      "outputs": [],
      "source": [
        "llms_new = [\"Gemini\", \"Mistral\", \"Cohere\", \"GPT-4\", \"Claude\", \"Llama\"]\n",
        "length_ranges = {\n",
        "    \"GPT-4\": (5000, 6000),\n",
        "    \"Claude\": (4000, 5000),\n",
        "    \"Llama\": (3000, 4000),\n",
        "    \"Gemini\": (2000, 3000),\n",
        "    \"Mistral\": (1000, 2000),\n",
        "    \"Cohere\": (100, 1000)\n",
        "}\n"
      ]
    },
    {
      "cell_type": "code",
      "source": [
        "num_samples = 1000\n",
        "np.random.seed(42)\n",
        "df = []\n",
        "for _ in range(num_samples):\n",
        "    best_llm = np.random.choice(llms_new)\n",
        "    length_constraint = np.random.randint(*length_ranges[best_llm])\n",
        "\n",
        "    df.append([\n",
        "        np.random.randint(1, 4),  #Task complexity\n",
        "        np.random.choice([0, 1]),  #Data type\n",
        "        np.random.choice([0, 1]),  #Data type\n",
        "        np.random.randint(1, 4),  #Format requirement\n",
        "        length_constraint,         #Length constraint based on LLM\n",
        "        best_llm\n",
        "    ])\n",
        "\n",
        "df = pd.DataFrame(df, columns=[\n",
        "    \"task_complexity\", \"data_type_text\", \"data_type_table\",\n",
        "    \"format_requirement\", \"length_constraint\", \"best_llm\"\n",
        "])\n",
        "\n",
        "df.to_csv(\"llm_training_data.csv\", index=False)\n"
      ],
      "metadata": {
        "id": "E6Uyc5cTd3lh"
      },
      "execution_count": 6,
      "outputs": []
    },
    {
      "cell_type": "markdown",
      "source": [
        "##Normalizing and Model Development\n",
        "\n",
        "*   Normalizing\n",
        "*   Model training with Random Forest\n",
        "\n"
      ],
      "metadata": {
        "id": "b1y0Yok7hH_d"
      }
    },
    {
      "cell_type": "code",
      "source": [
        "X = df.drop(columns=[\"best_llm\"])\n",
        "y = df[\"best_llm\"].astype(\"category\").cat.codes\n",
        "\n",
        "scaler = StandardScaler()\n",
        "X_scaled = scaler.fit_transform(X)\n",
        "\n",
        "X = pd.DataFrame(X_scaled, columns=X.columns)\n",
        "\n",
        "# Train-test split\n",
        "X_train, X_test, y_train, y_test = train_test_split(X, y, test_size=0.2, random_state=42)\n",
        "\n",
        "model = RandomForestClassifier(n_estimators=100, random_state=42)\n",
        "model.fit(X_train, y_train)\n",
        "\n",
        "y_pred = model.predict(X_test)\n",
        "accuracy = accuracy_score(y_test, y_pred)\n",
        "print(accuracy)"
      ],
      "metadata": {
        "colab": {
          "base_uri": "https://localhost:8080/"
        },
        "id": "09J1yYHUdZpF",
        "outputId": "0395934f-fc84-49b2-ef45-e1d794c9b4bc"
      },
      "execution_count": 7,
      "outputs": [
        {
          "output_type": "stream",
          "name": "stdout",
          "text": [
            "0.995\n"
          ]
        }
      ]
    },
    {
      "cell_type": "code",
      "source": [
        "import joblib\n",
        "joblib.dump(model, \"rf_llm_selector.pkl\")"
      ],
      "metadata": {
        "colab": {
          "base_uri": "https://localhost:8080/"
        },
        "id": "xXWspgW7jGm7",
        "outputId": "4ca6f391-cddf-4bdb-af13-320e01c0e98a"
      },
      "execution_count": 20,
      "outputs": [
        {
          "output_type": "execute_result",
          "data": {
            "text/plain": [
              "['rf_llm_selector.pkl']"
            ]
          },
          "metadata": {},
          "execution_count": 20
        }
      ]
    },
    {
      "cell_type": "markdown",
      "source": [
        "##Predictions"
      ],
      "metadata": {
        "id": "J2HugAZah6OU"
      }
    },
    {
      "cell_type": "code",
      "source": [
        "y_pred = model.predict(X_test.iloc[0].values.reshape(1, -1))\n",
        "y_pred[0]"
      ],
      "metadata": {
        "colab": {
          "base_uri": "https://localhost:8080/"
        },
        "id": "06KviWnRe8bh",
        "outputId": "5d177a6a-cacd-4f95-ea4e-9af4513b48d8"
      },
      "execution_count": 19,
      "outputs": [
        {
          "output_type": "stream",
          "name": "stderr",
          "text": [
            "/usr/local/lib/python3.11/dist-packages/sklearn/utils/validation.py:2739: UserWarning: X does not have valid feature names, but RandomForestClassifier was fitted with feature names\n",
            "  warnings.warn(\n"
          ]
        },
        {
          "output_type": "execute_result",
          "data": {
            "text/plain": [
              "3"
            ]
          },
          "metadata": {},
          "execution_count": 19
        }
      ]
    },
    {
      "cell_type": "code",
      "source": [
        "y_test.iloc[0]"
      ],
      "metadata": {
        "colab": {
          "base_uri": "https://localhost:8080/"
        },
        "id": "mbI-ICAtfTuA",
        "outputId": "4a4d7229-1de7-4c08-caee-b3ed9a6fe0fd"
      },
      "execution_count": 13,
      "outputs": [
        {
          "output_type": "execute_result",
          "data": {
            "text/plain": [
              "3"
            ]
          },
          "metadata": {},
          "execution_count": 13
        }
      ]
    },
    {
      "cell_type": "markdown",
      "source": [
        "#*Note: For LLM Routing API & Feedback Collection, a .py file is attached to the mail , please find code for the above steps in the feedback_flask.py file*"
      ],
      "metadata": {
        "id": "ZbJXVy3xkh1s"
      }
    },
    {
      "cell_type": "markdown",
      "source": [
        "#Conclusion:\n",
        "We successfully developed and deployed an intelligent LLM selection system that routes tasks to the most suitable LLM model using machine learning.\n",
        "\n",
        "\n",
        "\n",
        "*   Data Collection & Preparation: We generated a balanced dataset, ensuring appropriate length_constraint ranges for GPT-4, Claude, Llama, Gemini, Mistral, and Cohere.\n",
        "*   Model Training & Evaluation: We trained a Random Forest classifier, achieving improved accuracy after normalization, balancing classes, and fine-tuning features.\n",
        "\n",
        "\n",
        "*   LLM Routing API: We built a Flask API that predicts the best LLM based on task features and includes a confidence score and explanation for selection.\n",
        "\n",
        "*   Feedback Collection: We implemented a feedback system to refine model predictions, allowing real-time learning and continuous improvement.\n",
        "\n",
        "\n",
        "\n",
        "Final Outcome:\n",
        "Our model accurately predicts the best LLM for different tasks, with a structured API providing explainability and adaptive learning. This ensures optimal performance across multiple AI models, making our system scalable and reliable."
      ],
      "metadata": {
        "id": "mFL8So20kGMR"
      }
    }
  ]
}